{
 "cells": [
  {
   "cell_type": "code",
   "execution_count": 1,
   "id": "77fe3389-f16f-46f4-99b8-542d9bd08a58",
   "metadata": {},
   "outputs": [],
   "source": [
    "d = {}"
   ]
  },
  {
   "cell_type": "code",
   "execution_count": 2,
   "id": "8f1f72bd-45cf-4a27-9afe-a21f7b8cd1e0",
   "metadata": {},
   "outputs": [
    {
     "data": {
      "text/plain": [
       "dict"
      ]
     },
     "execution_count": 2,
     "metadata": {},
     "output_type": "execute_result"
    }
   ],
   "source": [
    "type(d)"
   ]
  },
  {
   "cell_type": "code",
   "execution_count": 3,
   "id": "5f695e62-5bfb-466d-81e4-693403d017fd",
   "metadata": {},
   "outputs": [],
   "source": [
    "d1 = { 'Key' : \"sudh\"}"
   ]
  },
  {
   "cell_type": "code",
   "execution_count": 4,
   "id": "22de188e-3c48-4da9-aba1-f773d4b60540",
   "metadata": {},
   "outputs": [
    {
     "data": {
      "text/plain": [
       "{'Key': 'sudh'}"
      ]
     },
     "execution_count": 4,
     "metadata": {},
     "output_type": "execute_result"
    }
   ],
   "source": [
    "d1"
   ]
  },
  {
   "cell_type": "code",
   "execution_count": 7,
   "id": "3ccdea63-4578-462e-adfa-36dea8278d08",
   "metadata": {},
   "outputs": [],
   "source": [
    "d2 = {'name' : \"Abhishek\", 'email' : \"abhirathor9977@gmail.com\", 'number' : \"6266\"}"
   ]
  },
  {
   "cell_type": "code",
   "execution_count": 8,
   "id": "fd2501ee-b20b-4134-82a1-639ad53f1555",
   "metadata": {},
   "outputs": [
    {
     "data": {
      "text/plain": [
       "{'name': 'Abhishek', 'email': 'abhirathor9977@gmail.com', 'number': '6266'}"
      ]
     },
     "execution_count": 8,
     "metadata": {},
     "output_type": "execute_result"
    }
   ],
   "source": [
    "d2"
   ]
  },
  {
   "cell_type": "code",
   "execution_count": 11,
   "id": "8c3f2764-e239-4503-ba45-8a4e5bda531f",
   "metadata": {},
   "outputs": [],
   "source": [
    "d3 = {234: \"sudh\" , 'wer' : \"kumar\", True : 2344}"
   ]
  },
  {
   "cell_type": "code",
   "execution_count": 12,
   "id": "4fe0188c-1781-4076-aa53-84850917519c",
   "metadata": {},
   "outputs": [
    {
     "data": {
      "text/plain": [
       "{234: 'sudh', 'wer': 'kumar', True: 2344}"
      ]
     },
     "execution_count": 12,
     "metadata": {},
     "output_type": "execute_result"
    }
   ],
   "source": [
    "d3"
   ]
  },
  {
   "cell_type": "code",
   "execution_count": 13,
   "id": "c4b01599-f15c-4a6f-bdc2-22e99304774f",
   "metadata": {},
   "outputs": [
    {
     "data": {
      "text/plain": [
       "'sudh'"
      ]
     },
     "execution_count": 13,
     "metadata": {},
     "output_type": "execute_result"
    }
   ],
   "source": [
    "d3[234]"
   ]
  },
  {
   "cell_type": "code",
   "execution_count": 14,
   "id": "0f2a84dc-9793-454b-9846-af8b2d835c74",
   "metadata": {},
   "outputs": [
    {
     "data": {
      "text/plain": [
       "2344"
      ]
     },
     "execution_count": 14,
     "metadata": {},
     "output_type": "execute_result"
    }
   ],
   "source": [
    "d3[True]"
   ]
  },
  {
   "cell_type": "code",
   "execution_count": 15,
   "id": "b872a435-e2d3-4579-afc4-f3bcd699ec85",
   "metadata": {},
   "outputs": [
    {
     "data": {
      "text/plain": [
       "2344"
      ]
     },
     "execution_count": 15,
     "metadata": {},
     "output_type": "execute_result"
    }
   ],
   "source": [
    "d3[1]"
   ]
  },
  {
   "cell_type": "code",
   "execution_count": 19,
   "id": "171a6b69-5c80-4942-b880-fa4ad1bbc6df",
   "metadata": {},
   "outputs": [],
   "source": [
    "d4={'name' : \"Abhi\", 'mail_id' :\"abhi@gmail.com\", 'name' : \"Abhisek\"}"
   ]
  },
  {
   "cell_type": "code",
   "execution_count": 20,
   "id": "612e00c8-c624-4e26-bb97-4b645b495d57",
   "metadata": {},
   "outputs": [
    {
     "data": {
      "text/plain": [
       "'Abhisek'"
      ]
     },
     "execution_count": 20,
     "metadata": {},
     "output_type": "execute_result"
    }
   ],
   "source": [
    "d4['name']"
   ]
  },
  {
   "cell_type": "code",
   "execution_count": 21,
   "id": "23bf06c9-5fa3-4365-aa6b-6ad010080cfe",
   "metadata": {},
   "outputs": [],
   "source": [
    "d5 = {'company' : \"pwskills\", 'courses' : [\"web deb\", \"Data science\", \" java with data system\"]}"
   ]
  },
  {
   "cell_type": "code",
   "execution_count": 22,
   "id": "1f46b1d3-8c1e-44c6-8b33-7de7c2baaf68",
   "metadata": {},
   "outputs": [
    {
     "data": {
      "text/plain": [
       "{'company': 'pwskills',\n",
       " 'courses': ['web deb', 'Data science', ' java with data system']}"
      ]
     },
     "execution_count": 22,
     "metadata": {},
     "output_type": "execute_result"
    }
   ],
   "source": [
    "d5"
   ]
  },
  {
   "cell_type": "code",
   "execution_count": 23,
   "id": "429588e4-8ae2-47d0-87e8-54bfa9209b32",
   "metadata": {},
   "outputs": [
    {
     "data": {
      "text/plain": [
       "['web deb', 'Data science', ' java with data system']"
      ]
     },
     "execution_count": 23,
     "metadata": {},
     "output_type": "execute_result"
    }
   ],
   "source": [
    "d5['courses']"
   ]
  },
  {
   "cell_type": "code",
   "execution_count": 24,
   "id": "213465ec-8a76-4e55-a516-1ea18548b0c5",
   "metadata": {},
   "outputs": [
    {
     "data": {
      "text/plain": [
       "' java with data system'"
      ]
     },
     "execution_count": 24,
     "metadata": {},
     "output_type": "execute_result"
    }
   ],
   "source": [
    "d5['courses'][2]"
   ]
  },
  {
   "cell_type": "code",
   "execution_count": 3,
   "id": "ae184265-8aea-40d6-99d2-662e30eaf38b",
   "metadata": {},
   "outputs": [],
   "source": [
    "d6 = {\"number\" : [2,3,4,5,6],\"assignment\" : (2,3,44,55,66,), \"launch_date\" : {28,12,14}, \"class_time\" : {'web_dev' : 8, \"Data science\" : 10, \"java with system design\" : 9}}"
   ]
  },
  {
   "cell_type": "code",
   "execution_count": 5,
   "id": "ef15b544-4a8e-411b-95af-fdbccb970fff",
   "metadata": {},
   "outputs": [
    {
     "data": {
      "text/plain": [
       "{'number': [2, 3, 4, 5, 6],\n",
       " 'assignment': (2, 3, 44, 55, 66),\n",
       " 'launch_date': {12, 14, 28},\n",
       " 'class_time': {'web_dev': 8,\n",
       "  'Data science': 10,\n",
       "  'java with system design': 9}}"
      ]
     },
     "execution_count": 5,
     "metadata": {},
     "output_type": "execute_result"
    }
   ],
   "source": [
    "d6"
   ]
  },
  {
   "cell_type": "code",
   "execution_count": 6,
   "id": "aacf7b47-e6eb-4994-9347-09a3c8117f9b",
   "metadata": {},
   "outputs": [
    {
     "data": {
      "text/plain": [
       "{'web_dev': 8, 'Data science': 10, 'java with system design': 9}"
      ]
     },
     "execution_count": 6,
     "metadata": {},
     "output_type": "execute_result"
    }
   ],
   "source": [
    "d6[\"class_time\"]"
   ]
  },
  {
   "cell_type": "code",
   "execution_count": 36,
   "id": "97ac82d0-3b98-4e2a-ad78-5e86c8dfadfd",
   "metadata": {},
   "outputs": [
    {
     "data": {
      "text/plain": [
       "9"
      ]
     },
     "execution_count": 36,
     "metadata": {},
     "output_type": "execute_result"
    }
   ],
   "source": [
    "d6[\"class_time\"]['java with system design']"
   ]
  },
  {
   "cell_type": "code",
   "execution_count": 7,
   "id": "9244c9e0-63ae-4947-b990-3c378337cd1b",
   "metadata": {},
   "outputs": [
    {
     "data": {
      "text/plain": [
       "{'number': [2, 3, 4, 5, 6],\n",
       " 'assignment': (2, 3, 44, 55, 66),\n",
       " 'launch_date': {12, 14, 28},\n",
       " 'class_time': {'web_dev': 8,\n",
       "  'Data science': 10,\n",
       "  'java with system design': 9}}"
      ]
     },
     "execution_count": 7,
     "metadata": {},
     "output_type": "execute_result"
    }
   ],
   "source": [
    "d6"
   ]
  },
  {
   "cell_type": "code",
   "execution_count": 38,
   "id": "4ad5066e-1303-4447-afc4-d6b837497e2e",
   "metadata": {},
   "outputs": [],
   "source": [
    "d6['mentor'] = [\"sudhanshu\", \"krish\", \"anurag\", \"hyder\"]"
   ]
  },
  {
   "cell_type": "code",
   "execution_count": 8,
   "id": "d933df41-0c02-4308-b148-2f142eedcd7e",
   "metadata": {},
   "outputs": [
    {
     "data": {
      "text/plain": [
       "{'number': [2, 3, 4, 5, 6],\n",
       " 'assignment': (2, 3, 44, 55, 66),\n",
       " 'launch_date': {12, 14, 28},\n",
       " 'class_time': {'web_dev': 8,\n",
       "  'Data science': 10,\n",
       "  'java with system design': 9}}"
      ]
     },
     "execution_count": 8,
     "metadata": {},
     "output_type": "execute_result"
    }
   ],
   "source": [
    "d6"
   ]
  },
  {
   "cell_type": "code",
   "execution_count": 41,
   "id": "bddeac8b-cc16-4cdb-8da6-1e7fdb0e013f",
   "metadata": {},
   "outputs": [],
   "source": [
    "del d6['number']"
   ]
  },
  {
   "cell_type": "code",
   "execution_count": 42,
   "id": "21285947-64ce-4dd5-a716-8254354c3a0a",
   "metadata": {},
   "outputs": [
    {
     "data": {
      "text/plain": [
       "{'assignment': (2, 3, 44, 55, 66),\n",
       " 'launch_date': {12, 14, 28},\n",
       " 'class_time': {'web_dev': 8,\n",
       "  'Data science': 10,\n",
       "  'java with system design': 9},\n",
       " 'mentor': ['sudhanshu', 'krish', 'anurag', 'hyder']}"
      ]
     },
     "execution_count": 42,
     "metadata": {},
     "output_type": "execute_result"
    }
   ],
   "source": [
    "d6"
   ]
  },
  {
   "cell_type": "code",
   "execution_count": 9,
   "id": "b33533c7-f386-4f38-8f60-279129589037",
   "metadata": {},
   "outputs": [
    {
     "data": {
      "text/plain": [
       "['number', 'assignment', 'launch_date', 'class_time']"
      ]
     },
     "execution_count": 9,
     "metadata": {},
     "output_type": "execute_result"
    }
   ],
   "source": [
    "list(d6.keys())"
   ]
  },
  {
   "cell_type": "code",
   "execution_count": 50,
   "id": "28d3a1ae-530f-4a77-a35b-ae8008170f14",
   "metadata": {},
   "outputs": [
    {
     "data": {
      "text/plain": [
       "[(2, 3, 44, 55, 66),\n",
       " {12, 14, 28},\n",
       " {'web_dev': 8, 'Data science': 10, 'java with system design': 9},\n",
       " ['sudhanshu', 'krish', 'anurag', 'hyder']]"
      ]
     },
     "execution_count": 50,
     "metadata": {},
     "output_type": "execute_result"
    }
   ],
   "source": [
    "list(d6.values())"
   ]
  },
  {
   "cell_type": "code",
   "execution_count": 52,
   "id": "b7e60a5f-d19e-4223-93ae-eaeabc08710f",
   "metadata": {},
   "outputs": [
    {
     "data": {
      "text/plain": [
       "[('assignment', (2, 3, 44, 55, 66)),\n",
       " ('launch_date', {12, 14, 28}),\n",
       " ('class_time',\n",
       "  {'web_dev': 8, 'Data science': 10, 'java with system design': 9}),\n",
       " ('mentor', ['sudhanshu', 'krish', 'anurag', 'hyder'])]"
      ]
     },
     "execution_count": 52,
     "metadata": {},
     "output_type": "execute_result"
    }
   ],
   "source": [
    "list(d6.items())"
   ]
  },
  {
   "cell_type": "code",
   "execution_count": 10,
   "id": "4d8571f5-9d00-4aac-b7e7-76d07bd95a2e",
   "metadata": {},
   "outputs": [
    {
     "data": {
      "text/plain": [
       "(2, 3, 44, 55, 66)"
      ]
     },
     "execution_count": 10,
     "metadata": {},
     "output_type": "execute_result"
    }
   ],
   "source": [
    "d6.pop('assignment')"
   ]
  },
  {
   "cell_type": "code",
   "execution_count": 11,
   "id": "21f1cad7-1655-4cb6-9ff8-cfc1055389e6",
   "metadata": {},
   "outputs": [
    {
     "data": {
      "text/plain": [
       "{'number': [2, 3, 4, 5, 6],\n",
       " 'launch_date': {12, 14, 28},\n",
       " 'class_time': {'web_dev': 8,\n",
       "  'Data science': 10,\n",
       "  'java with system design': 9}}"
      ]
     },
     "execution_count": 11,
     "metadata": {},
     "output_type": "execute_result"
    }
   ],
   "source": [
    "d6"
   ]
  },
  {
   "cell_type": "code",
   "execution_count": 27,
   "id": "01b7aeed-d45c-471d-ba18-646bb71925f4",
   "metadata": {},
   "outputs": [
    {
     "name": "stdout",
     "output_type": "stream",
     "text": [
      "you will be the part of A3 batch\n"
     ]
    }
   ],
   "source": [
    "marks = 10\n",
    "if marks >= 80 :\n",
    "    print(\"you will be the part of A0 batch\")\n",
    "elif marks >= 60 and marks < 80 :\n",
    "    print(\"you will be the part of A1 batch\")\n",
    "elif marks >= 40 and marks <60 :\n",
    "    print(\"you will be the part A2 batch\")\n",
    "else :\n",
    "    print(\"you will be the part of A3 batch\")"
   ]
  },
  {
   "cell_type": "code",
   "execution_count": 26,
   "id": "bb6bcc3c-6641-4b85-a970-30dcadd7396d",
   "metadata": {},
   "outputs": [
    {
     "data": {
      "text/plain": [
       "False"
      ]
     },
     "execution_count": 26,
     "metadata": {},
     "output_type": "execute_result"
    }
   ],
   "source": [
    "10 >= 80"
   ]
  },
  {
   "cell_type": "code",
   "execution_count": 37,
   "id": "5433671f-94d9-41a3-929c-01c6ec5bdb88",
   "metadata": {},
   "outputs": [
    {
     "name": "stdin",
     "output_type": "stream",
     "text": [
      "Enter you marks 90\n"
     ]
    },
    {
     "name": "stdout",
     "output_type": "stream",
     "text": [
      "you will be the part of A0 batch\n"
     ]
    }
   ],
   "source": [
    "marks = int(input(\"Enter you marks\"))\n",
    "if marks >= 80 :\n",
    "    print(\"you will be the part of A0 batch\")\n",
    "elif marks >= 60 and marks < 80 :\n",
    "    print(\"you will be the part of A1 batch\")\n",
    "elif marks >= 40 and marks <60 :\n",
    "    print(\"you will be the part A2 batch\")\n",
    "else :\n",
    "    print(\"you will be the part of A3 batch\")"
   ]
  },
  {
   "cell_type": "code",
   "execution_count": 33,
   "id": "31e45525-0845-4e97-9d25-66eb6249063d",
   "metadata": {},
   "outputs": [
    {
     "name": "stdin",
     "output_type": "stream",
     "text": [
      "Enter your msrks 45\n"
     ]
    }
   ],
   "source": [
    "marks = int(input(\"Enter your msrks\"))"
   ]
  },
  {
   "cell_type": "code",
   "execution_count": 34,
   "id": "5a0f16a0-992a-49b6-982c-b41b25f3689e",
   "metadata": {},
   "outputs": [
    {
     "data": {
      "text/plain": [
       "45"
      ]
     },
     "execution_count": 34,
     "metadata": {},
     "output_type": "execute_result"
    }
   ],
   "source": [
    "marks"
   ]
  },
  {
   "cell_type": "code",
   "execution_count": 35,
   "id": "a9306811-ea02-494d-8574-0e6473cd975a",
   "metadata": {},
   "outputs": [
    {
     "data": {
      "text/plain": [
       "int"
      ]
     },
     "execution_count": 35,
     "metadata": {},
     "output_type": "execute_result"
    }
   ],
   "source": [
    "type(marks)"
   ]
  },
  {
   "cell_type": "code",
   "execution_count": 40,
   "id": "b14abd28-f6da-46a5-b380-a0228079b8c5",
   "metadata": {},
   "outputs": [
    {
     "name": "stdin",
     "output_type": "stream",
     "text": [
      "Enter the price 2000\n"
     ]
    },
    {
     "name": "stdout",
     "output_type": "stream",
     "text": [
      "I will not purchase\n"
     ]
    }
   ],
   "source": [
    "price = int(input(\"Enter the price\"))\n",
    "if price > 1000:\n",
    "    print(\"I will not purchase\")\n",
    "else :\n",
    "    print(\"I will purchase\")"
   ]
  },
  {
   "cell_type": "code",
   "execution_count": 2,
   "id": "dfe7f54f-55c0-499a-b7bb-2310f6a8e0d9",
   "metadata": {},
   "outputs": [
    {
     "name": "stdin",
     "output_type": "stream",
     "text": [
      "Enter the price 1500\n"
     ]
    },
    {
     "name": "stdout",
     "output_type": "stream",
     "text": [
      "I will not purchase\n",
      "it's okkk\n"
     ]
    }
   ],
   "source": [
    "price = int(input(\"Enter the price\"))\n",
    "if price > 1000:\n",
    "    print(\"I will not purchase\")\n",
    "if price > 5000:\n",
    "    print(\"This is too much\")\n",
    "elif price <2000 :\n",
    "    print(\"it's okkk\")\n",
    "elif price < 1000 :\n",
    "        print(\"I will purchase\")\n",
    "else:\n",
    "    print(\"Not intrested\")\n",
    "        "
   ]
  },
  {
   "cell_type": "code",
   "execution_count": 3,
   "id": "2555f876-843b-4d0f-a1aa-ec6a5a2db195",
   "metadata": {},
   "outputs": [],
   "source": [
    "l = [1,2,3,4,5,6,7,8]"
   ]
  },
  {
   "cell_type": "code",
   "execution_count": 5,
   "id": "742ce861-96e3-46aa-85f3-cdb9e3c829e6",
   "metadata": {},
   "outputs": [
    {
     "data": {
      "text/plain": [
       "2"
      ]
     },
     "execution_count": 5,
     "metadata": {},
     "output_type": "execute_result"
    }
   ],
   "source": [
    "l[0]+1"
   ]
  },
  {
   "cell_type": "code",
   "execution_count": 6,
   "id": "1cc883bd-6320-44b4-8888-947524f26816",
   "metadata": {},
   "outputs": [],
   "source": [
    "l1 = []"
   ]
  },
  {
   "cell_type": "code",
   "execution_count": 7,
   "id": "48724f0c-5b08-45a0-992a-2d0334bf7d8e",
   "metadata": {},
   "outputs": [],
   "source": [
    "l1.append(l[0]+1)"
   ]
  },
  {
   "cell_type": "code",
   "execution_count": 8,
   "id": "243a7bcc-f0a2-4797-92ff-a4d87e80c60e",
   "metadata": {},
   "outputs": [
    {
     "data": {
      "text/plain": [
       "[2]"
      ]
     },
     "execution_count": 8,
     "metadata": {},
     "output_type": "execute_result"
    }
   ],
   "source": [
    "l1"
   ]
  },
  {
   "cell_type": "code",
   "execution_count": 9,
   "id": "5d9816f4-ce42-44bd-bcaf-185d1b02925d",
   "metadata": {},
   "outputs": [
    {
     "data": {
      "text/plain": [
       "[1, 2, 3, 4, 5, 6, 7, 8]"
      ]
     },
     "execution_count": 9,
     "metadata": {},
     "output_type": "execute_result"
    }
   ],
   "source": [
    "l"
   ]
  },
  {
   "cell_type": "code",
   "execution_count": 19,
   "id": "7252e7c9-ef42-49d6-bf13-58e85ae41912",
   "metadata": {},
   "outputs": [
    {
     "name": "stdout",
     "output_type": "stream",
     "text": [
      "2\n",
      "3\n",
      "4\n",
      "5\n",
      "6\n",
      "7\n",
      "8\n",
      "9\n"
     ]
    },
    {
     "data": {
      "text/plain": [
       "[2, 3, 4, 5, 6, 7, 8, 9]"
      ]
     },
     "execution_count": 19,
     "metadata": {},
     "output_type": "execute_result"
    }
   ],
   "source": [
    "l1 = []\n",
    "for i in l :\n",
    "    print(i+1)\n",
    "    l1.append(i+1)\n",
    "l1"
   ]
  },
  {
   "cell_type": "code",
   "execution_count": 20,
   "id": "ee43919c-d383-4b9e-aca7-bb6030c62775",
   "metadata": {},
   "outputs": [],
   "source": [
    "l = [\"sudh\", \"kumar\", \"pwskills\", \"courses\"]"
   ]
  },
  {
   "cell_type": "code",
   "execution_count": 25,
   "id": "fb6ec572-b6c1-419c-a9cc-cd782071b085",
   "metadata": {},
   "outputs": [
    {
     "name": "stdout",
     "output_type": "stream",
     "text": [
      "sudh\n",
      "kumar\n",
      "pwskills\n",
      "courses\n"
     ]
    }
   ],
   "source": [
    "l1 = []\n",
    "for i in l:\n",
    "    print(i)\n",
    "    l1.append(i.upper())"
   ]
  },
  {
   "cell_type": "code",
   "execution_count": 26,
   "id": "99fc3d5c-3eab-4b1d-a658-8cdecd83b878",
   "metadata": {},
   "outputs": [
    {
     "data": {
      "text/plain": [
       "['SUDH', 'KUMAR', 'PWSKILLS', 'COURSES']"
      ]
     },
     "execution_count": 26,
     "metadata": {},
     "output_type": "execute_result"
    }
   ],
   "source": [
    "l1"
   ]
  },
  {
   "cell_type": "code",
   "execution_count": 14,
   "id": "f2aa9c7c-0e26-4f9f-8d5e-e64ba77475f6",
   "metadata": {},
   "outputs": [],
   "source": [
    "l = [1,2,3,4,\"sudh\", \"kumar\",324, 34.456,\"abc\"]"
   ]
  },
  {
   "cell_type": "code",
   "execution_count": 16,
   "id": "e80fbd65-59ea-4389-80c1-7a4af600c993",
   "metadata": {},
   "outputs": [],
   "source": [
    "l1_num = []\n",
    "l2_str = []\n",
    "for i in l :\n",
    "    if type(i) == int or type(i)  == float :\n",
    "        l1_num.append(i)\n",
    "    else :\n",
    "            l2_str.append(i)"
   ]
  },
  {
   "cell_type": "code",
   "execution_count": 18,
   "id": "cb8f6d51-0f59-490b-b442-f80b95fcc6cc",
   "metadata": {},
   "outputs": [
    {
     "data": {
      "text/plain": [
       "[1, 2, 3, 4, 324, 34.456]"
      ]
     },
     "execution_count": 18,
     "metadata": {},
     "output_type": "execute_result"
    }
   ],
   "source": [
    "l1_num"
   ]
  },
  {
   "cell_type": "code",
   "execution_count": 19,
   "id": "87af40f3-18b8-4877-aedf-7fba941ea52d",
   "metadata": {},
   "outputs": [
    {
     "data": {
      "text/plain": [
       "['sudh', 'kumar', 'abc']"
      ]
     },
     "execution_count": 19,
     "metadata": {},
     "output_type": "execute_result"
    }
   ],
   "source": [
    "l2_str"
   ]
  },
  {
   "cell_type": "code",
   "execution_count": null,
   "id": "97f05509-cd4e-46eb-94bb-0eeb7ae61cd1",
   "metadata": {},
   "outputs": [],
   "source": []
  }
 ],
 "metadata": {
  "kernelspec": {
   "display_name": "Python 3 (ipykernel)",
   "language": "python",
   "name": "python3"
  },
  "language_info": {
   "codemirror_mode": {
    "name": "ipython",
    "version": 3
   },
   "file_extension": ".py",
   "mimetype": "text/x-python",
   "name": "python",
   "nbconvert_exporter": "python",
   "pygments_lexer": "ipython3",
   "version": "3.10.8"
  }
 },
 "nbformat": 4,
 "nbformat_minor": 5
}
